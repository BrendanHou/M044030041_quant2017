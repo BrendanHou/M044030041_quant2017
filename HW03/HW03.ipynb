{
 "cells": [
  {
   "cell_type": "markdown",
   "metadata": {},
   "source": [
    "# Text Summerization Using Jieba"
   ]
  },
  {
   "cell_type": "code",
   "execution_count": 50,
   "metadata": {
    "collapsed": true
   },
   "outputs": [],
   "source": [
    "import requests\n",
    "from bs4 import BeautifulSoup"
   ]
  },
  {
   "cell_type": "code",
   "execution_count": 51,
   "metadata": {
    "collapsed": true
   },
   "outputs": [],
   "source": [
    "url = \"https://news.cnyes.com/news/id/3959668\""
   ]
  },
  {
   "cell_type": "code",
   "execution_count": 52,
   "metadata": {
    "collapsed": true
   },
   "outputs": [],
   "source": [
    "r = requests.get(url)\n",
    "r.encoding = \"UTF-8\""
   ]
  },
  {
   "cell_type": "code",
   "execution_count": 53,
   "metadata": {
    "scrolled": true
   },
   "outputs": [],
   "source": [
    "soup = BeautifulSoup(r.text, \"lxml\")\n",
    "news_text = soup.findAll('div', {\"itemprop\":\"articleBody\"})[0].text"
   ]
  },
  {
   "cell_type": "code",
   "execution_count": 55,
   "metadata": {},
   "outputs": [],
   "source": [
    "news_summary = soup.select(\"p\")[0].text"
   ]
  },
  {
   "cell_type": "code",
   "execution_count": 57,
   "metadata": {},
   "outputs": [],
   "source": [
    "import jieba\n",
    "import jieba.analyse"
   ]
  },
  {
   "cell_type": "code",
   "execution_count": 60,
   "metadata": {},
   "outputs": [],
   "source": [
    "jieba.set_dictionary('dict.txt.big')"
   ]
  },
  {
   "cell_type": "code",
   "execution_count": 62,
   "metadata": {},
   "outputs": [],
   "source": [
    "keywords = jieba.analyse.extract_tags(news_text, topK=10, withWeight=False)"
   ]
  },
  {
   "cell_type": "code",
   "execution_count": 64,
   "metadata": {},
   "outputs": [
    {
     "name": "stdout",
     "output_type": "stream",
     "text": [
      "指數/ 選舉/ 500/ 企業/ 強勁/ 銀行/ 稅改/ 點或/ 分析師/ 獲利\n"
     ]
    }
   ],
   "source": [
    "print (\"/ \".join(keywords))"
   ]
  },
  {
   "cell_type": "code",
   "execution_count": 67,
   "metadata": {},
   "outputs": [
    {
     "name": "stdout",
     "output_type": "stream",
     "text": [
      "[('指數', 0.2973822761915423), ('選舉', 0.2973822761915423), ('500', 0.23790582095323382), ('企業', 0.23790582095323382), ('強勁', 0.23790582095323382), ('銀行', 0.17842936571492535), ('稅改', 0.17842936571492535), ('點或', 0.17842936571492535), ('分析師', 0.17842936571492535), ('獲利', 0.17842936571492535)]\n"
     ]
    }
   ],
   "source": [
    "print (repr(jieba.analyse.extract_tags(news_text, topK=10, withWeight=True)))"
   ]
  },
  {
   "cell_type": "code",
   "execution_count": 69,
   "metadata": {},
   "outputs": [
    {
     "name": "stdout",
     "output_type": "stream",
     "text": [
      "[('可能', 1.0), ('股市', 0.5210201973940274), ('財報', 0.4752930675591783), ('全球', 0.4335211537222953), ('眾院', 0.4183929094361562), ('金融股', 0.3648042164614168), ('下跌', 0.3495854614914099), ('認為', 0.3318067635965563), ('收低', 0.3257330539205563), ('公司', 0.3209270831550783)]\n"
     ]
    }
   ],
   "source": [
    "print (repr(jieba.analyse.textrank(news_text, topK=10, withWeight=True)))"
   ]
  },
  {
   "cell_type": "code",
   "execution_count": 71,
   "metadata": {
    "collapsed": true
   },
   "outputs": [],
   "source": [
    "def index_of_keyword(sentences, keyword):\n",
    "    for i, s in enumerate(sentences):\n",
    "        if keyword in s:\n",
    "              return i\n",
    "    return -1"
   ]
  },
  {
   "cell_type": "code",
   "execution_count": 73,
   "metadata": {},
   "outputs": [
    {
     "data": {
      "text/plain": [
       "22"
      ]
     },
     "execution_count": 73,
     "metadata": {},
     "output_type": "execute_result"
    }
   ],
   "source": [
    "sentences = news_text.replace(\"\\n\",\"\").split(u\"。\")\n",
    "len(sentences)"
   ]
  },
  {
   "cell_type": "code",
   "execution_count": 76,
   "metadata": {},
   "outputs": [
    {
     "name": "stdout",
     "output_type": "stream",
     "text": [
      "美國股市週三中場下跌。\n",
      "銀行股走低，可能連四天收低，拖累主要指數自高點下滑。\n",
      "週二，道瓊與 S&P 500 均創新收盤高點。\n",
      "共和黨在紐澤西州與維吉尼亞州的選舉中落敗，增加了稅改計畫的不確定性，銀行股因而下跌。\n",
      "台北時間 01:14道瓊工業平均指數下跌 14.54 點或 0.06% 至 23542.69。\n",
      "Nasdaq 指數上漲 3.43 點或 0.05% 至 6771.22。\n",
      "S&P 500 指數下跌 0.67 點或 0.03% 至 2589.97。\n",
      "分析師說，維吉尼亞州昨晚的選舉結果，可能促使共和黨在稅改上，採取較民粹的方式，公司稅的改變可能受限。\n",
      "選舉結果亦顯示，2018 年選舉後，眾院可能變天，民主黨的華特斯可能擔任眾院金融服務委員會主席，投資人認為他對金融股屬利空，尤其是大型銀行股。\n",
      "但亦有分析師表示，目前並不擔憂股市。\n",
      "如果看看資產負債表及企業獲利，仍然強勁。\n",
      "但若殖利率曲線反轉，則令人憂心。\n",
      "川普總統勝選已滿一年，美國股市上漲了逾 20%。\n",
      "川普勝選，推升了稅改的期望，拉抬了股市氣氛。\n",
      "在選後的漲勢裡，波動率非常低。\n",
      "上週，CBOE 波動指數跌破 9，為史上第三次跌破該水準。\n",
      "S&P 500 出現了數十年來最長久的漲勢之一，未見有 3% 或 5% 的回檔。\n",
      "大選後，股市強勁的漲勢，係獲得全球經濟改善的支撑。\n",
      "分析師說，選舉的確會對股市造成衝擊，但影響股市的主要因素仍是全球經濟強勁。\n",
      "企業季報大多已公布，本財報季可謂強勁。\n",
      "已有 87% 的 S&P 500 企業公布了財報，獲利較去年同期成長 6.4%，74% 企業獲利優於預期。\n",
      "。\n"
     ]
    }
   ],
   "source": [
    "for sentence in sentences:\n",
    "    print (sentence + u\"。\")"
   ]
  },
  {
   "cell_type": "code",
   "execution_count": 80,
   "metadata": {},
   "outputs": [
    {
     "data": {
      "text/plain": [
       "12"
      ]
     },
     "execution_count": 80,
     "metadata": {},
     "output_type": "execute_result"
    }
   ],
   "source": [
    "index_of_keyword(sentences,u\"川普\")"
   ]
  },
  {
   "cell_type": "code",
   "execution_count": 81,
   "metadata": {},
   "outputs": [
    {
     "name": "stdout",
     "output_type": "stream",
     "text": [
      "川普總統勝選已滿一年，美國股市上漲了逾 20%。\n"
     ]
    }
   ],
   "source": [
    "print (sentences[index_of_keyword(sentences,u\"川普\")]+u\"。\")"
   ]
  },
  {
   "cell_type": "code",
   "execution_count": 83,
   "metadata": {},
   "outputs": [
    {
     "data": {
      "text/plain": [
       "10"
      ]
     },
     "execution_count": 83,
     "metadata": {},
     "output_type": "execute_result"
    }
   ],
   "source": [
    "len(sentences[0])"
   ]
  },
  {
   "cell_type": "code",
   "execution_count": 85,
   "metadata": {
    "collapsed": true
   },
   "outputs": [],
   "source": [
    "s_index = []\n",
    "for keyword in keywords[:3]:\n",
    "    s_index.append(index_of_keyword(sentences,keyword))\n",
    "\n",
    "s_set = set(s_index)\n",
    "s_index = list(s_set)"
   ]
  },
  {
   "cell_type": "code",
   "execution_count": 86,
   "metadata": {
    "collapsed": true
   },
   "outputs": [],
   "source": [
    "summary = \"\"\n",
    "for i in s_index:\n",
    "    summary += sentences[i]+u\"。\""
   ]
  },
  {
   "cell_type": "code",
   "execution_count": 87,
   "metadata": {},
   "outputs": [
    {
     "name": "stdout",
     "output_type": "stream",
     "text": [
      "銀行股走低，可能連四天收低，拖累主要指數自高點下滑。週二，道瓊與 S&P 500 均創新收盤高點。共和黨在紐澤西州與維吉尼亞州的選舉中落敗，增加了稅改計畫的不確定性，銀行股因而下跌。\n"
     ]
    }
   ],
   "source": [
    "print (summary)"
   ]
  },
  {
   "cell_type": "code",
   "execution_count": 88,
   "metadata": {},
   "outputs": [
    {
     "name": "stdout",
     "output_type": "stream",
     "text": [
      "美國股市週三中場下跌。銀行股走低，可能連四天收低，拖累主要指數自高點下滑。\n"
     ]
    }
   ],
   "source": [
    "print (news_summary)"
   ]
  }
 ],
 "metadata": {
  "kernelspec": {
   "display_name": "Python 3",
   "language": "python",
   "name": "python3"
  },
  "language_info": {
   "codemirror_mode": {
    "name": "ipython",
    "version": 3
   },
   "file_extension": ".py",
   "mimetype": "text/x-python",
   "name": "python",
   "nbconvert_exporter": "python",
   "pygments_lexer": "ipython3",
   "version": "3.6.1"
  }
 },
 "nbformat": 4,
 "nbformat_minor": 2
}
